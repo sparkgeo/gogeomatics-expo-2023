{
 "cells": [
  {
   "cell_type": "markdown",
   "metadata": {},
   "source": [
    "# Sparkgeo GoGeomatics Workshop"
   ]
  },
  {
   "cell_type": "markdown",
   "metadata": {},
   "source": [
    "### ARD (Analysis Ready Data)\n",
    "Now that we have seen our data and created some basic metadata from it. It is ready to be analyzed. The data is Analysis Ready.\n",
    "\n",
    "Let's exploit it and do some basic zonal statistics.\n",
    "We are going to do the following:\n",
    " - Create a polygon from a buffered lat/long point\n",
    " - Build a PDAL pipeline to filter the data and spatially subset the data\n",
    " - View the data subset"
   ]
  },
  {
   "cell_type": "code",
   "execution_count": 10,
   "metadata": {},
   "outputs": [],
   "source": [
    "#!pip install shapely\n",
    "#!pip install pyproj\n",
    "#!pip install pillow\n",
    "\n",
    "import pyproj\n",
    "from PIL import Image\n",
    "from pyproj.aoi import AreaOfInterest\n",
    "from pyproj.database import query_utm_crs_info\n",
    "\n",
    "def get_utm(point):\n",
    "    # Estimate the first UTM from the latlong\n",
    "    longitude, latitude = point.x, point.y\n",
    "    buffer = 0.001\n",
    "    utm_crs_list = query_utm_crs_info(\n",
    "        datum_name=\"WGS 84\",\n",
    "        area_of_interest=AreaOfInterest(\n",
    "            west_lon_degree=longitude - buffer,\n",
    "            south_lat_degree=latitude - buffer,\n",
    "            east_lon_degree=longitude + buffer,\n",
    "            north_lat_degree=latitude + buffer,\n",
    "        ),\n",
    "    )\n",
    "    utm_crs = pyproj.CRS.from_epsg(utm_crs_list[0].code)\n",
    "    return utm_crs"
   ]
  },
  {
   "cell_type": "code",
   "execution_count": 3,
   "metadata": {},
   "outputs": [],
   "source": [
    "# Create an AOI from a point\n",
    "from shapely.geometry import shape\n",
    "from shapely.ops import transform\n",
    "\n",
    "zonal_stats_point = {\"type\": \"Point\", \"coordinates\": [-111.3846, 56.7936]}\n",
    "\n",
    "geom = shape(zonal_stats_point)\n",
    "utm = get_utm(geom)\n",
    "wgs84 = pyproj.CRS(\"EPSG:4326\")\n",
    "\n",
    "project_dd_to_utm = pyproj.Transformer.from_crs(wgs84, utm, always_xy=True).transform\n",
    "project_utm_to_dd = pyproj.Transformer.from_crs(utm, wgs84, always_xy=True).transform\n",
    "\n",
    "utm_point = transform(project_dd_to_utm, geom)\n",
    "\n",
    "# AOIs\n",
    "window = utm_point.buffer(100)\n",
    "window_dd = transform(project_utm_to_dd, window)"
   ]
  },
  {
   "cell_type": "code",
   "execution_count": 11,
   "metadata": {},
   "outputs": [],
   "source": [
    "import pdal \n",
    "\n",
    "# Define the PDAL pipeline to read from the NRCan COPC repository (stored on AWS s3)\n",
    "# Fort McMurray COPC File.\n",
    "\n",
    "polygon = window.wkt + f\" / EPSG:{utm.to_epsg()}\"\n",
    "\n",
    "# This method of using PDAL is different than the one presented earlier. However, they perform the same task.\n",
    "reader = pdal.Reader.copc(\n",
    "        \"https://ftp-maps-canada-ca.s3.amazonaws.com/pub/elevation/pointclouds_nuagespoints/NRCAN/Fort_McMurray_2018/AB_FortMcMurray2018_20180518_NAD83CSRS_UTMZ12_1km_E4760_N62940_CQL1_CLASS.copc.laz\",\n",
    "        requests=3,\n",
    "        resolution=2.0,\n",
    "        polygon=polygon\n",
    "    )"
   ]
  },
  {
   "cell_type": "code",
   "execution_count": 12,
   "metadata": {},
   "outputs": [],
   "source": [
    "# Scale intensity to 8bits\n",
    "assign = pdal.Filter.assign(value=[\"Intensity = Intensity / 256\"])\n"
   ]
  },
  {
   "cell_type": "code",
   "execution_count": 14,
   "metadata": {},
   "outputs": [],
   "source": [
    "# Create a PDAL writer to a tif\n",
    "writer = pdal.Writer.gdal(\n",
    "    \"intensity.tif\",\n",
    "    resolution=2.0,\n",
    "    dimension=\"Intensity\",\n",
    "    data_type=\"uint8\",\n",
    "    output_type=\"mean\",\n",
    ")"
   ]
  },
  {
   "cell_type": "code",
   "execution_count": 15,
   "metadata": {},
   "outputs": [],
   "source": [
    "# Create a PDAL pipeline\n",
    "pipeline = reader\n",
    "pipeline = pipeline | assign | writer"
   ]
  },
  {
   "cell_type": "code",
   "execution_count": 8,
   "metadata": {},
   "outputs": [
    {
     "name": "stdout",
     "output_type": "stream",
     "text": [
      "\n",
      "Number of points returned for dimension Intensity: 56310\n",
      "CPU times: user 3.14 s, sys: 327 ms, total: 3.47 s\n",
      "Wall time: 7.6 s\n"
     ]
    }
   ],
   "source": [
    "%%time\n",
    "\n",
    "# Use streaming mode at 1e6 points at a time. This\n",
    "# helps us conserve memory for pipelines that are streamable\n",
    "# check that with the pipeline.streamable property\n",
    "results = pipeline.execute_streaming(chunk_size=1000000)\n",
    "print(pipeline.log)\n",
    "\n",
    "# Print the dimension of the PDAL pipeline (Intensity)\n",
    "dimension = pipeline.stages[-1].options[\"dimension\"]\n",
    "print(f\"Number of points returned for dimension {dimension}: {results}\")"
   ]
  },
  {
   "cell_type": "code",
   "execution_count": 17,
   "metadata": {},
   "outputs": [
    {
     "data": {
      "image/jpeg": "[encoded data removed]",
      "image/png": "[encoded data removed]",
      "text/plain": [
       "<PIL.TiffImagePlugin.TiffImageFile image mode=L size=100x100>"
      ]
     },
     "execution_count": 17,
     "metadata": {},
     "output_type": "execute_result"
    }
   ],
   "source": [
    "#Open the AOI created around the buffered point\n",
    "Image.open(\"intensity.tif\")"
   ]
  },
  {
   "cell_type": "markdown",
   "metadata": {},
   "source": [
    "### Zonal Statistics\n",
    "Lets compute the height above ground using a nearest neighbour filter.\n",
    "This filter selects `ASPRS Standard Classification 2` as the ground points in the data.\n",
    "\n",
    "See the [documentation.](\n",
    "https://pdal.io/en/2.6.0/stages/filters.hag_nn.html)\n"
   ]
  },
  {
   "cell_type": "code",
   "execution_count": 11,
   "metadata": {},
   "outputs": [
    {
     "name": "stdout",
     "output_type": "stream",
     "text": [
      "The maximum height in m in the subseted dataset is 28.25m\n"
     ]
    }
   ],
   "source": [
    "import numpy\n",
    "\n",
    "hag = pdal.Filter.hag_nn()\n",
    "writer = pdal.Writer.gdal(\n",
    "    \"hag.tif\",\n",
    "    resolution=2.0,\n",
    "    dimension=\"HeightAboveGround\",\n",
    "    data_type=\"float32\",\n",
    "    output_type=\"mean\",\n",
    ")\n",
    "\n",
    "pipeline = None\n",
    "pipeline = reader\n",
    "pipeline = pipeline | hag | writer\n",
    "p = pipeline.execute()\n",
    "\n",
    "# Access the Numpy Array\n",
    "arr = pipeline.arrays[0]\n",
    "\n",
    "print(f\"The maximum height in m in the subseted dataset is {numpy.max(arr[\"HeightAboveGround\"])}m\")"
   ]
  }
 ],
 "metadata": {
  "kernelspec": {
   "display_name": "gogeomatics-workshop",
   "language": "python",
   "name": "python3"
  },
  "language_info": {
   "codemirror_mode": {
    "name": "ipython",
    "version": 3
   },
   "file_extension": ".py",
   "mimetype": "text/x-python",
   "name": "python",
   "nbconvert_exporter": "python",
   "pygments_lexer": "ipython3",
   "version": "3.12.0"
  }
 },
 "nbformat": 4,
 "nbformat_minor": 2
}
