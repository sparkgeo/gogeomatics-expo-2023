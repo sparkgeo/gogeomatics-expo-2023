{
 "cells": [
  {
   "cell_type": "markdown",
   "metadata": {},
   "source": [
    "# Sparkgeo GoGeomatics Workshop\n",
    "- Calgary, Alberta. 2023"
   ]
  },
  {
   "cell_type": "markdown",
   "metadata": {},
   "source": [
    "\n",
    "Welcome to this workshop focused on Cloud Optimized Point Clouds (COPC), SpatioTemporal Asset Catalog (STAC), and the Pointcloud Data Abstraction Library (PDAL). We will cover the role of COPC and STAC in geospatial cloud systems and dive into using PDAL for creating cloud-native metadata. You'll learn practical methods for managing and processing large point cloud datasets in the cloud through demonstrations.\n"
   ]
  },
  {
   "cell_type": "markdown",
   "metadata": {},
   "source": [
    "### Cloud Optimized Point Cloud (COPC)"
   ]
  },
  {
   "cell_type": "markdown",
   "metadata": {},
   "source": [
    "A Cloud Optimized Point Cloud (COPC) is a point cloud data format engineered for efficient access and processing in cloud-based systems. Unlike traditional LiDAR formats like LAS or LAZ, COPC incorporates a hierarchical structure that enables faster and more precise spatial queries. This hierarchical metadata allows you to read specific subsets of large datasets without scanning the entire file.\n",
    "\n",
    "COPC files are especially advantageous for large-scale, distributed computing scenarios where data is stored in cloud infrastructure. The format optimizes both storage and query performance, making it an ideal choice for applications requiring real-time data retrieval and analysis of massive point cloud datasets."
   ]
  },
  {
   "cell_type": "markdown",
   "metadata": {},
   "source": [
    "![COPC chunk table](./reference_material/copc-vlr-chunk-table-illustration.png)"
   ]
  },
  {
   "cell_type": "markdown",
   "metadata": {},
   "source": [
    "PDAL (Point Data Abstraction Library) is an open-source library designed for translating and processing point cloud data. It provides a standardized way to handle various point cloud formats, including LAS, LAZ, and more recently, Cloud Optimized Point Clouds (COPC).\n",
    "\n",
    "Comparable to GDAL in the raster and vector data domains, PDAL serves as a crucial tool for geospatial applications involving point clouds. It allows for easy customization and extension, enabling the development of tailored point cloud processing workflows."
   ]
  },
  {
   "cell_type": "code",
   "execution_count": null,
   "metadata": {},
   "outputs": [],
   "source": [
    "- call pdal info from commandline\n",
    "- call pdal info from python"
   ]
  },
  {
   "cell_type": "markdown",
   "metadata": {},
   "source": [
    "We introduced the concept of SpatioTemporal Asset Catalogs (STACs) in the presentation. The main goal of a STAC is to make data more accessible and interoperable.\n",
    "\n",
    "Below, we will demonstrate how you can use STAC to explore Point Cloud data sets and start using them to make Analysis Ready Data (ARD)."
   ]
  },
  {
   "cell_type": "markdown",
   "metadata": {},
   "source": []
  }
 ],
 "metadata": {
  "kernelspec": {
   "display_name": "Python 3",
   "language": "python",
   "name": "python3"
  },
  "language_info": {
   "codemirror_mode": {
    "name": "ipython",
    "version": 3
   },
   "file_extension": ".py",
   "mimetype": "text/x-python",
   "name": "python",
   "nbconvert_exporter": "python",
   "pygments_lexer": "ipython3",
   "version": "3.12.0"
  }
 },
 "nbformat": 4,
 "nbformat_minor": 2
}
