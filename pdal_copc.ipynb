{
 "cells": [
  {
   "cell_type": "markdown",
   "metadata": {},
   "source": [
    "# Sparkgeo GoGeomatics Workshop"
   ]
  },
  {
   "cell_type": "markdown",
   "metadata": {},
   "source": [
    "\n",
    "Welcome to this workshop focused on Cloud Optimized Point Clouds (COPC), SpatioTemporal Asset Catalog (STAC), and the Pointcloud Data Abstraction Library (PDAL). We will cover the role of COPC and STAC in geospatial cloud systems and dive into using PDAL for creating cloud-native metadata. You'll learn practical methods for managing and processing large point cloud datasets in the cloud through demonstrations.\n"
   ]
  },
  {
   "cell_type": "markdown",
   "metadata": {},
   "source": [
    "### Cloud Optimized Point Cloud (COPC)"
   ]
  },
  {
   "cell_type": "markdown",
   "metadata": {},
   "source": [
    "A Cloud Optimized Point Cloud (COPC) is a point cloud data format engineered for efficient access and processing in cloud-based systems. Unlike traditional LiDAR formats like LAS or LAZ, COPC incorporates a hierarchical structure that enables faster and more precise spatial queries. This hierarchical metadata allows you to read specific subsets of large datasets without scanning the entire file.\n",
    "\n",
    "COPC files are especially advantageous for large-scale, distributed computing scenarios where data is stored in cloud infrastructure. The format optimizes both storage and query performance, making it an ideal choice for applications requiring real-time data retrieval and analysis of massive point cloud datasets."
   ]
  },
  {
   "cell_type": "markdown",
   "metadata": {},
   "source": [
    "![COPC chunk table](./reference_material/copc-vlr-chunk-table-illustration.png)"
   ]
  },
  {
   "cell_type": "markdown",
   "metadata": {},
   "source": [
    "### PDAL (Point Data Abstraction Library)"
   ]
  },
  {
   "cell_type": "markdown",
   "metadata": {},
   "source": [
    "PDAL (Point Data Abstraction Library) is an open-source library designed for translating and processing point cloud data. It provides a standardized way to handle various point cloud formats, including LAS, LAZ, and more recently, Cloud Optimized Point Clouds (COPC).\n",
    "\n",
    "Comparable to GDAL in the raster and vector data domains, PDAL serves as a crucial tool for geospatial applications involving point clouds. It allows for easy customization and extension, enabling the development of tailored point cloud processing workflows."
   ]
  },
  {
   "cell_type": "markdown",
   "metadata": {},
   "source": [
    "# Workshop Material"
   ]
  },
  {
   "cell_type": "markdown",
   "metadata": {},
   "source": [
    "We will use the NRCAN COPC datasets for our examples in this notebook.\n",
    "Let's have a look at LAS vs COPC datasets\n",
    "\n",
    "See the NRCAN download site for some [COPC datasets around the Oil Sands](https://download-telecharger.services.geo.ca/pub/elevation/pointclouds_nuagespoints/NRCAN/Oil_Sands_2017_2/)."
   ]
  },
  {
   "cell_type": "code",
   "execution_count": 1,
   "metadata": {},
   "outputs": [],
   "source": [
    "import json\n",
    "import pdal \n",
    "import time\n",
    "\n",
    "# Define the PDAL pipeline to read from the NRCan COPC repository (stored on AWS s3)\n",
    "# Fort McMurray COPC File.\n",
    "pipeline = {\n",
    "    \"pipeline\": [\n",
    "        {\n",
    "            \"type\": \"readers.copc\",\n",
    "            \"filename\": \"https://ftp-maps-canada-ca.s3.amazonaws.com/pub/elevation/pointclouds_nuagespoints/NRCAN/Fort_McMurray_2018/AB_FortMcMurray2018_20180518_NAD83CSRS_UTMZ12_1km_E4760_N62940_CQL1_CLASS.copc.laz\"\n",
    "        },\n",
    "        {\n",
    "            \"type\": \"filters.head\",\n",
    "            \"count\": 0\n",
    "        }\n",
    "    ]\n",
    "}\n",
    "\n",
    "# Convert the Python dictionary to a JSON string\n",
    "pipeline_json = json.dumps(pipeline)\n",
    "\n",
    "# Execute the PDAL pipeline\n",
    "pipeline = pdal.Pipeline(pipeline_json)"
   ]
  },
  {
   "cell_type": "markdown",
   "metadata": {},
   "source": [
    "Compare the speeds of opening a file `pdal.execute()` vs reading just the header of the file `pdal.quickinfo`."
   ]
  },
  {
   "cell_type": "code",
   "execution_count": 2,
   "metadata": {},
   "outputs": [
    {
     "name": "stdout",
     "output_type": "stream",
     "text": [
      "Time taken by pdal.Pipeline.execute(): 150.5 seconds\n",
      "Time taken by pdal.quickinfo: 5.2 seconds\n"
     ]
    },
    {
     "name": "stderr",
     "output_type": "stream",
     "text": [
      "Curl failure: Timeout was reached\n",
      "Curl failure: Timeout was reached\n",
      "Curl failure: Timeout was reached\n"
     ]
    }
   ],
   "source": [
    "# Test the speeds of openning vs quicklook\n",
    "start_time_quickinfo = time.time()\n",
    "quickinfo = pipeline.quickinfo\n",
    "end_time_quickinfo = time.time()\n",
    "\n",
    "time_taken_quickinfo = round(end_time_quickinfo - start_time_quickinfo, 1)\n",
    "\n",
    "start_time_execute = time.time()\n",
    "info = pipeline.execute()\n",
    "end_time_execute = time.time()\n",
    "\n",
    "time_taken_execute = round(end_time_execute - start_time_execute, 1)\n",
    "\n",
    "print(f\"Time taken by pdal.Pipeline.execute(): {time_taken_execute} seconds\")\n",
    "print(f\"Time taken by pdal.quickinfo: {time_taken_quickinfo} seconds\")"
   ]
  },
  {
   "cell_type": "code",
   "execution_count": 3,
   "metadata": {},
   "outputs": [
    {
     "name": "stdout",
     "output_type": "stream",
     "text": [
      "COPC Metadata: True\n",
      "Point Count: 12180055\n",
      "Spatial Reference System: NAD83(CSRS) / UTM zone 12N\n"
     ]
    }
   ],
   "source": [
    "# Read some basic stats\n",
    "copc_metadata = pipeline.metadata['metadata']['readers.copc']['copc']\n",
    "count_metadata = pipeline.metadata['metadata']['readers.copc']['count']\n",
    "srs_metadata = pipeline.metadata['metadata']['readers.copc']['srs']['json']['name']\n",
    "\n",
    "# Display the metadata\n",
    "print(f\"COPC Metadata: {copc_metadata}\")\n",
    "print(f\"Point Count: {count_metadata}\")\n",
    "print(f\"Spatial Reference System: {srs_metadata}\")"
   ]
  },
  {
   "cell_type": "code",
   "execution_count": 4,
   "metadata": {},
   "outputs": [
    {
     "data": {
      "text/plain": [
       "{'comp_spatialreference': 'PROJCS[\"NAD83(CSRS) / UTM zone 12N\",GEOGCS[\"NAD83(CSRS)\",DATUM[\"NAD83_Canadian_Spatial_Reference_System\",SPHEROID[\"GRS 1980\",6378137,298.257222101,AUTHORITY[\"EPSG\",\"7019\"]],AUTHORITY[\"EPSG\",\"6140\"]],PRIMEM[\"Greenwich\",0,AUTHORITY[\"EPSG\",\"8901\"]],UNIT[\"degree\",0.0174532925199433,AUTHORITY[\"EPSG\",\"9122\"]],AUTHORITY[\"EPSG\",\"4617\"]],PROJECTION[\"Transverse_Mercator\"],PARAMETER[\"latitude_of_origin\",0],PARAMETER[\"central_meridian\",-111],PARAMETER[\"scale_factor\",0.9996],PARAMETER[\"false_easting\",500000],PARAMETER[\"false_northing\",0],UNIT[\"metre\",1,AUTHORITY[\"EPSG\",\"9001\"]],AXIS[\"Easting\",EAST],AXIS[\"Northing\",NORTH],AUTHORITY[\"EPSG\",\"2956\"]]',\n",
       " 'compressed': True,\n",
       " 'copc': True,\n",
       " 'copc_info': {'center_x': 476499.995,\n",
       "  'center_y': 6294499.995,\n",
       "  'center_z': 830.715,\n",
       "  'gpstime_maximum': 2.390892103e-258,\n",
       "  'gpstime_minimum': 210693071.1,\n",
       "  'halfsize': 499.995,\n",
       "  'root_hier_offset': 82152445,\n",
       "  'root_hier_size': 11424,\n",
       "  'spacing': 6.802653061},\n",
       " 'count': 12180055,\n",
       " 'creation_doy': 60,\n",
       " 'creation_year': 2020,\n",
       " 'dataformat_id': 6,\n",
       " 'dataoffset': 1378,\n",
       " 'filesource_id': 0,\n",
       " 'global_encoding': 17,\n",
       " 'global_encoding_base64': 'EQA=',\n",
       " 'header_size': 375,\n",
       " 'major_version': 1,\n",
       " 'maxx': 476999.989,\n",
       " 'maxy': 6294999.99,\n",
       " 'maxz': 383.93,\n",
       " 'minor_version': 4,\n",
       " 'minx': 476000.001,\n",
       " 'miny': 6294000,\n",
       " 'minz': 330.72,\n",
       " 'offset_x': 476499.995,\n",
       " 'offset_y': 6294499.995,\n",
       " 'offset_z': 0,\n",
       " 'point_length': 30,\n",
       " 'project_id': '00000000-0000-0000-0000-000000000000',\n",
       " 'scale_x': 0.001,\n",
       " 'scale_y': 0.001,\n",
       " 'scale_z': 0.001,\n",
       " 'software_id': 'PDAL 2.4.1 (0c5ece)',\n",
       " 'spatialreference': 'PROJCS[\"NAD83(CSRS) / UTM zone 12N\",GEOGCS[\"NAD83(CSRS)\",DATUM[\"NAD83_Canadian_Spatial_Reference_System\",SPHEROID[\"GRS 1980\",6378137,298.257222101,AUTHORITY[\"EPSG\",\"7019\"]],AUTHORITY[\"EPSG\",\"6140\"]],PRIMEM[\"Greenwich\",0,AUTHORITY[\"EPSG\",\"8901\"]],UNIT[\"degree\",0.0174532925199433,AUTHORITY[\"EPSG\",\"9122\"]],AUTHORITY[\"EPSG\",\"4617\"]],PROJECTION[\"Transverse_Mercator\"],PARAMETER[\"latitude_of_origin\",0],PARAMETER[\"central_meridian\",-111],PARAMETER[\"scale_factor\",0.9996],PARAMETER[\"false_easting\",500000],PARAMETER[\"false_northing\",0],UNIT[\"metre\",1,AUTHORITY[\"EPSG\",\"9001\"]],AXIS[\"Easting\",EAST],AXIS[\"Northing\",NORTH],AUTHORITY[\"EPSG\",\"2956\"]]',\n",
       " 'srs': {'compoundwkt': 'PROJCS[\"NAD83(CSRS) / UTM zone 12N\",GEOGCS[\"NAD83(CSRS)\",DATUM[\"NAD83_Canadian_Spatial_Reference_System\",SPHEROID[\"GRS 1980\",6378137,298.257222101,AUTHORITY[\"EPSG\",\"7019\"]],AUTHORITY[\"EPSG\",\"6140\"]],PRIMEM[\"Greenwich\",0,AUTHORITY[\"EPSG\",\"8901\"]],UNIT[\"degree\",0.0174532925199433,AUTHORITY[\"EPSG\",\"9122\"]],AUTHORITY[\"EPSG\",\"4617\"]],PROJECTION[\"Transverse_Mercator\"],PARAMETER[\"latitude_of_origin\",0],PARAMETER[\"central_meridian\",-111],PARAMETER[\"scale_factor\",0.9996],PARAMETER[\"false_easting\",500000],PARAMETER[\"false_northing\",0],UNIT[\"metre\",1,AUTHORITY[\"EPSG\",\"9001\"]],AXIS[\"Easting\",EAST],AXIS[\"Northing\",NORTH],AUTHORITY[\"EPSG\",\"2956\"]]',\n",
       "  'horizontal': 'PROJCS[\"NAD83(CSRS) / UTM zone 12N\",GEOGCS[\"NAD83(CSRS)\",DATUM[\"NAD83_Canadian_Spatial_Reference_System\",SPHEROID[\"GRS 1980\",6378137,298.257222101,AUTHORITY[\"EPSG\",\"7019\"]],AUTHORITY[\"EPSG\",\"6140\"]],PRIMEM[\"Greenwich\",0,AUTHORITY[\"EPSG\",\"8901\"]],UNIT[\"degree\",0.0174532925199433,AUTHORITY[\"EPSG\",\"9122\"]],AUTHORITY[\"EPSG\",\"4617\"]],PROJECTION[\"Transverse_Mercator\"],PARAMETER[\"latitude_of_origin\",0],PARAMETER[\"central_meridian\",-111],PARAMETER[\"scale_factor\",0.9996],PARAMETER[\"false_easting\",500000],PARAMETER[\"false_northing\",0],UNIT[\"metre\",1,AUTHORITY[\"EPSG\",\"9001\"]],AXIS[\"Easting\",EAST],AXIS[\"Northing\",NORTH],AUTHORITY[\"EPSG\",\"2956\"]]',\n",
       "  'isgeocentric': False,\n",
       "  'isgeographic': False,\n",
       "  'json': {'type': 'ProjectedCRS',\n",
       "   'name': 'NAD83(CSRS) / UTM zone 12N',\n",
       "   'base_crs': {'name': 'NAD83(CSRS)',\n",
       "    'datum': {'type': 'GeodeticReferenceFrame',\n",
       "     'name': 'NAD83 Canadian Spatial Reference System',\n",
       "     'ellipsoid': {'name': 'GRS 1980',\n",
       "      'semi_major_axis': 6378137,\n",
       "      'inverse_flattening': 298.257222101}},\n",
       "    'coordinate_system': {'subtype': 'ellipsoidal',\n",
       "     'axis': [{'name': 'Geodetic latitude',\n",
       "       'abbreviation': 'Lat',\n",
       "       'direction': 'north',\n",
       "       'unit': 'degree'},\n",
       "      {'name': 'Geodetic longitude',\n",
       "       'abbreviation': 'Lon',\n",
       "       'direction': 'east',\n",
       "       'unit': 'degree'}]},\n",
       "    'id': {'authority': 'EPSG', 'code': 4617}},\n",
       "   'conversion': {'name': 'UTM zone 12N',\n",
       "    'method': {'name': 'Transverse Mercator',\n",
       "     'id': {'authority': 'EPSG', 'code': 9807}},\n",
       "    'parameters': [{'name': 'Latitude of natural origin',\n",
       "      'value': 0,\n",
       "      'unit': 'degree',\n",
       "      'id': {'authority': 'EPSG', 'code': 8801}},\n",
       "     {'name': 'Longitude of natural origin',\n",
       "      'value': -111,\n",
       "      'unit': 'degree',\n",
       "      'id': {'authority': 'EPSG', 'code': 8802}},\n",
       "     {'name': 'Scale factor at natural origin',\n",
       "      'value': 0.9996,\n",
       "      'unit': 'unity',\n",
       "      'id': {'authority': 'EPSG', 'code': 8805}},\n",
       "     {'name': 'False easting',\n",
       "      'value': 500000,\n",
       "      'unit': 'metre',\n",
       "      'id': {'authority': 'EPSG', 'code': 8806}},\n",
       "     {'name': 'False northing',\n",
       "      'value': 0,\n",
       "      'unit': 'metre',\n",
       "      'id': {'authority': 'EPSG', 'code': 8807}}]},\n",
       "   'coordinate_system': {'subtype': 'Cartesian',\n",
       "    'axis': [{'name': 'Easting',\n",
       "      'abbreviation': '',\n",
       "      'direction': 'east',\n",
       "      'unit': 'metre'},\n",
       "     {'name': 'Northing',\n",
       "      'abbreviation': '',\n",
       "      'direction': 'north',\n",
       "      'unit': 'metre'}]},\n",
       "   'id': {'authority': 'EPSG', 'code': 2956}},\n",
       "  'prettycompoundwkt': 'PROJCS[\"NAD83(CSRS) / UTM zone 12N\",\\n    GEOGCS[\"NAD83(CSRS)\",\\n        DATUM[\"NAD83_Canadian_Spatial_Reference_System\",\\n            SPHEROID[\"GRS 1980\",6378137,298.257222101,\\n                AUTHORITY[\"EPSG\",\"7019\"]],\\n            AUTHORITY[\"EPSG\",\"6140\"]],\\n        PRIMEM[\"Greenwich\",0,\\n            AUTHORITY[\"EPSG\",\"8901\"]],\\n        UNIT[\"degree\",0.0174532925199433,\\n            AUTHORITY[\"EPSG\",\"9122\"]],\\n        AUTHORITY[\"EPSG\",\"4617\"]],\\n    PROJECTION[\"Transverse_Mercator\"],\\n    PARAMETER[\"latitude_of_origin\",0],\\n    PARAMETER[\"central_meridian\",-111],\\n    PARAMETER[\"scale_factor\",0.9996],\\n    PARAMETER[\"false_easting\",500000],\\n    PARAMETER[\"false_northing\",0],\\n    UNIT[\"metre\",1,\\n        AUTHORITY[\"EPSG\",\"9001\"]],\\n    AXIS[\"Easting\",EAST],\\n    AXIS[\"Northing\",NORTH],\\n    AUTHORITY[\"EPSG\",\"2956\"]]',\n",
       "  'prettywkt': 'PROJCS[\"NAD83(CSRS) / UTM zone 12N\",\\n    GEOGCS[\"NAD83(CSRS)\",\\n        DATUM[\"NAD83_Canadian_Spatial_Reference_System\",\\n            SPHEROID[\"GRS 1980\",6378137,298.257222101,\\n                AUTHORITY[\"EPSG\",\"7019\"]],\\n            AUTHORITY[\"EPSG\",\"6140\"]],\\n        PRIMEM[\"Greenwich\",0,\\n            AUTHORITY[\"EPSG\",\"8901\"]],\\n        UNIT[\"degree\",0.0174532925199433,\\n            AUTHORITY[\"EPSG\",\"9122\"]],\\n        AUTHORITY[\"EPSG\",\"4617\"]],\\n    PROJECTION[\"Transverse_Mercator\"],\\n    PARAMETER[\"latitude_of_origin\",0],\\n    PARAMETER[\"central_meridian\",-111],\\n    PARAMETER[\"scale_factor\",0.9996],\\n    PARAMETER[\"false_easting\",500000],\\n    PARAMETER[\"false_northing\",0],\\n    UNIT[\"metre\",1,\\n        AUTHORITY[\"EPSG\",\"9001\"]],\\n    AXIS[\"Easting\",EAST],\\n    AXIS[\"Northing\",NORTH],\\n    AUTHORITY[\"EPSG\",\"2956\"]]',\n",
       "  'proj4': '+proj=utm +zone=12 +ellps=GRS80 +units=m +no_defs',\n",
       "  'units': {'horizontal': 'metre', 'vertical': ''},\n",
       "  'vertical': '',\n",
       "  'wkt': 'PROJCS[\"NAD83(CSRS) / UTM zone 12N\",GEOGCS[\"NAD83(CSRS)\",DATUM[\"NAD83_Canadian_Spatial_Reference_System\",SPHEROID[\"GRS 1980\",6378137,298.257222101,AUTHORITY[\"EPSG\",\"7019\"]],AUTHORITY[\"EPSG\",\"6140\"]],PRIMEM[\"Greenwich\",0,AUTHORITY[\"EPSG\",\"8901\"]],UNIT[\"degree\",0.0174532925199433,AUTHORITY[\"EPSG\",\"9122\"]],AUTHORITY[\"EPSG\",\"4617\"]],PROJECTION[\"Transverse_Mercator\"],PARAMETER[\"latitude_of_origin\",0],PARAMETER[\"central_meridian\",-111],PARAMETER[\"scale_factor\",0.9996],PARAMETER[\"false_easting\",500000],PARAMETER[\"false_northing\",0],UNIT[\"metre\",1,AUTHORITY[\"EPSG\",\"9001\"]],AXIS[\"Easting\",EAST],AXIS[\"Northing\",NORTH],AUTHORITY[\"EPSG\",\"2956\"]]'},\n",
       " 'system_id': 'PDAL',\n",
       " 'vlr_0': {'data': 'UFJPSkNTWyJOQUQ4MyhDU1JTKSAvIFVUTSB6b25lIDEyTiIsR0VPR0NTWyJOQUQ4MyhDU1JTKSIsREFUVU1bIk5BRDgzX0NhbmFkaWFuX1NwYXRpYWxfUmVmZXJlbmNlX1N5c3RlbSIsU1BIRVJPSURbIkdSUyAxOTgwIiw2Mzc4MTM3LDI5OC4yNTcyMjIxMDEsQVVUSE9SSVRZWyJFUFNHIiwiNzAxOSJdXSxBVVRIT1JJVFlbIkVQU0ciLCI2MTQwIl1dLFBSSU1FTVsiR3JlZW53aWNoIiwwLEFVVEhPUklUWVsiRVBTRyIsIjg5MDEiXV0sVU5JVFsiZGVncmVlIiwwLjAxNzQ1MzI5MjUxOTk0MzMsQVVUSE9SSVRZWyJFUFNHIiwiOTEyMiJdXSxBVVRIT1JJVFlbIkVQU0ciLCI0NjE3Il1dLFBST0pFQ1RJT05bIlRyYW5zdmVyc2VfTWVyY2F0b3IiXSxQQVJBTUVURVJbImxhdGl0dWRlX29mX29yaWdpbiIsMF0sUEFSQU1FVEVSWyJjZW50cmFsX21lcmlkaWFuIiwtMTExXSxQQVJBTUVURVJbInNjYWxlX2ZhY3RvciIsMC45OTk2XSxQQVJBTUVURVJbImZhbHNlX2Vhc3RpbmciLDUwMDAwMF0sUEFSQU1FVEVSWyJmYWxzZV9ub3J0aGluZyIsMF0sVU5JVFsibWV0cmUiLDEsQVVUSE9SSVRZWyJFUFNHIiwiOTAwMSJdXSxBWElTWyJFYXN0aW5nIixFQVNUXSxBWElTWyJOb3J0aGluZyIsTk9SVEhdLEFVVEhPUklUWVsiRVBTRyIsIjI5NTYiXV0=',\n",
       "  'description': '',\n",
       "  'record_id': 2112,\n",
       "  'user_id': 'LASF_Projection'},\n",
       " 'vlr_1': {'data': 'AwAAAAMEAwAAAAAA//////////////////////////8BAAoAHgADAA==',\n",
       "  'description': 'lazperf variant',\n",
       "  'record_id': 22204,\n",
       "  'user_id': 'laszip encoded'}}"
      ]
     },
     "execution_count": 4,
     "metadata": {},
     "output_type": "execute_result"
    }
   ],
   "source": [
    "# what other properties are available?\n",
    "pipeline.metadata['metadata']['readers.copc']"
   ]
  },
  {
   "cell_type": "markdown",
   "metadata": {},
   "source": [
    "\n",
    "That is good for getting some metadata and understanding the COPC data we are working with. Let's visualize it."
   ]
  },
  {
   "cell_type": "code",
   "execution_count": 5,
   "metadata": {},
   "outputs": [],
   "source": [
    "# !pip install pyproj\n",
    "import pyproj\n",
    "\n",
    "# Create a geojson bbox from the PDAL bounds\n",
    "def generate_geojson_bbox(metadata):\n",
    "    # Extract bounds and source CRS\n",
    "    minx = metadata['minx']\n",
    "    miny = metadata['miny']\n",
    "    maxx = metadata['maxx']\n",
    "    maxy = metadata['maxy']\n",
    "    source_crs_wkt = metadata['comp_spatialreference']\n",
    "    \n",
    "    # Initialize coordinate transformation\n",
    "    source_crs = pyproj.CRS.from_wkt(source_crs_wkt)\n",
    "    target_crs = pyproj.CRS.from_epsg(4326)  # WGS84\n",
    "    transformer = pyproj.Transformer.from_crs(source_crs, target_crs, always_xy=True)\n",
    "    \n",
    "    # Transform corners of the bounding box to WGS84\n",
    "    minx, miny = transformer.transform(minx, miny)\n",
    "    maxx, maxy = transformer.transform(maxx, maxy)\n",
    "    \n",
    "    # Generate GeoJSON Polygon to represent the bounding box\n",
    "    geojson_bbox = {\n",
    "        \"type\": \"Feature\",\n",
    "        \"geometry\": {\n",
    "            \"type\": \"Polygon\",\n",
    "            \"coordinates\": [[\n",
    "                [minx, miny],\n",
    "                [maxx, miny],\n",
    "                [maxx, maxy],\n",
    "                [minx, maxy],\n",
    "                [minx, miny]\n",
    "            ]]\n",
    "        }\n",
    "    }\n",
    "    \n",
    "    return json.dumps(geojson_bbox, indent=4)"
   ]
  },
  {
   "cell_type": "code",
   "execution_count": 8,
   "metadata": {},
   "outputs": [
    {
     "data": {
      "text/html": [
       "<div style=\"width:100%;\"><div style=\"position:relative;width:100%;height:0;padding-bottom:60%;\"><span style=\"color:#565656\">Make this Notebook Trusted to load map: File -> Trust Notebook</span><iframe srcdoc=\"&lt;!DOCTYPE html&gt;\n",
       "&lt;html&gt;\n",
       "&lt;head&gt;\n",
       "    \n",
       "    &lt;meta http-equiv=&quot;content-type&quot; content=&quot;text/html; charset=UTF-8&quot; /&gt;\n",
       "    \n",
       "        &lt;script&gt;\n",
       "            L_NO_TOUCH = false;\n",
       "            L_DISABLE_3D = false;\n",
       "        &lt;/script&gt;\n",
       "    \n",
       "    &lt;style&gt;html, body {width: 100%;height: 100%;margin: 0;padding: 0;}&lt;/style&gt;\n",
       "    &lt;style&gt;#map {position:absolute;top:0;bottom:0;right:0;left:0;}&lt;/style&gt;\n",
       "    &lt;script src=&quot;https://cdn.jsdelivr.net/npm/leaflet@1.9.3/dist/leaflet.js&quot;&gt;&lt;/script&gt;\n",
       "    &lt;script src=&quot;https://code.jquery.com/jquery-1.12.4.min.js&quot;&gt;&lt;/script&gt;\n",
       "    &lt;script src=&quot;https://cdn.jsdelivr.net/npm/bootstrap@5.2.2/dist/js/bootstrap.bundle.min.js&quot;&gt;&lt;/script&gt;\n",
       "    &lt;script src=&quot;https://cdnjs.cloudflare.com/ajax/libs/Leaflet.awesome-markers/2.0.2/leaflet.awesome-markers.js&quot;&gt;&lt;/script&gt;\n",
       "    &lt;link rel=&quot;stylesheet&quot; href=&quot;https://cdn.jsdelivr.net/npm/leaflet@1.9.3/dist/leaflet.css&quot;/&gt;\n",
       "    &lt;link rel=&quot;stylesheet&quot; href=&quot;https://cdn.jsdelivr.net/npm/bootstrap@5.2.2/dist/css/bootstrap.min.css&quot;/&gt;\n",
       "    &lt;link rel=&quot;stylesheet&quot; href=&quot;https://netdna.bootstrapcdn.com/bootstrap/3.0.0/css/bootstrap.min.css&quot;/&gt;\n",
       "    &lt;link rel=&quot;stylesheet&quot; href=&quot;https://cdn.jsdelivr.net/npm/@fortawesome/fontawesome-free@6.2.0/css/all.min.css&quot;/&gt;\n",
       "    &lt;link rel=&quot;stylesheet&quot; href=&quot;https://cdnjs.cloudflare.com/ajax/libs/Leaflet.awesome-markers/2.0.2/leaflet.awesome-markers.css&quot;/&gt;\n",
       "    &lt;link rel=&quot;stylesheet&quot; href=&quot;https://cdn.jsdelivr.net/gh/python-visualization/folium/folium/templates/leaflet.awesome.rotate.min.css&quot;/&gt;\n",
       "    \n",
       "            &lt;meta name=&quot;viewport&quot; content=&quot;width=device-width,\n",
       "                initial-scale=1.0, maximum-scale=1.0, user-scalable=no&quot; /&gt;\n",
       "            &lt;style&gt;\n",
       "                #map_cc46fd2995d2e7472230900f850512fa {\n",
       "                    position: relative;\n",
       "                    width: 100.0%;\n",
       "                    height: 100.0%;\n",
       "                    left: 0.0%;\n",
       "                    top: 0.0%;\n",
       "                }\n",
       "                .leaflet-container { font-size: 1rem; }\n",
       "            &lt;/style&gt;\n",
       "        \n",
       "&lt;/head&gt;\n",
       "&lt;body&gt;\n",
       "    \n",
       "    \n",
       "            &lt;div class=&quot;folium-map&quot; id=&quot;map_cc46fd2995d2e7472230900f850512fa&quot; &gt;&lt;/div&gt;\n",
       "        \n",
       "&lt;/body&gt;\n",
       "&lt;script&gt;\n",
       "    \n",
       "    \n",
       "            var map_cc46fd2995d2e7472230900f850512fa = L.map(\n",
       "                &quot;map_cc46fd2995d2e7472230900f850512fa&quot;,\n",
       "                {\n",
       "                    center: [56.793815297878396, -111.38473538181208],\n",
       "                    crs: L.CRS.EPSG3857,\n",
       "                    zoom: 11,\n",
       "                    zoomControl: true,\n",
       "                    preferCanvas: false,\n",
       "                }\n",
       "            );\n",
       "\n",
       "            \n",
       "\n",
       "        \n",
       "    \n",
       "            var tile_layer_8609778d90cfeff1f6175ac116bbe7d6 = L.tileLayer(\n",
       "                &quot;https://{s}.tile.openstreetmap.org/{z}/{x}/{y}.png&quot;,\n",
       "                {&quot;attribution&quot;: &quot;Data by \\u0026copy; \\u003ca target=\\&quot;_blank\\&quot; href=\\&quot;http://openstreetmap.org\\&quot;\\u003eOpenStreetMap\\u003c/a\\u003e, under \\u003ca target=\\&quot;_blank\\&quot; href=\\&quot;http://www.openstreetmap.org/copyright\\&quot;\\u003eODbL\\u003c/a\\u003e.&quot;, &quot;detectRetina&quot;: false, &quot;maxNativeZoom&quot;: 18, &quot;maxZoom&quot;: 18, &quot;minZoom&quot;: 0, &quot;noWrap&quot;: false, &quot;opacity&quot;: 1, &quot;subdomains&quot;: &quot;abc&quot;, &quot;tms&quot;: false}\n",
       "            ).addTo(map_cc46fd2995d2e7472230900f850512fa);\n",
       "        \n",
       "    \n",
       "\n",
       "        function geo_json_e79539a21cb1c9cde0cd33051d9a1f42_onEachFeature(feature, layer) {\n",
       "            layer.on({\n",
       "            });\n",
       "        };\n",
       "        var geo_json_e79539a21cb1c9cde0cd33051d9a1f42 = L.geoJson(null, {\n",
       "                onEachFeature: geo_json_e79539a21cb1c9cde0cd33051d9a1f42_onEachFeature,\n",
       "            \n",
       "        });\n",
       "\n",
       "        function geo_json_e79539a21cb1c9cde0cd33051d9a1f42_add (data) {\n",
       "            geo_json_e79539a21cb1c9cde0cd33051d9a1f42\n",
       "                .addData(data)\n",
       "                .addTo(map_cc46fd2995d2e7472230900f850512fa);\n",
       "        }\n",
       "            geo_json_e79539a21cb1c9cde0cd33051d9a1f42_add({&quot;geometry&quot;: {&quot;coordinates&quot;: [[[-111.39287463643562, 56.789298313676696], [-111.37659612718855, 56.789298313676696], [-111.37659612718855, 56.798332282080096], [-111.39287463643562, 56.798332282080096], [-111.39287463643562, 56.789298313676696]]], &quot;type&quot;: &quot;Polygon&quot;}, &quot;type&quot;: &quot;Feature&quot;});\n",
       "\n",
       "        \n",
       "&lt;/script&gt;\n",
       "&lt;/html&gt;\" style=\"position:absolute;width:100%;height:100%;left:0;top:0;border:none !important;\" allowfullscreen webkitallowfullscreen mozallowfullscreen></iframe></div></div>"
      ],
      "text/plain": [
       "<folium.folium.Map at 0x10e4983b0>"
      ]
     },
     "execution_count": 8,
     "metadata": {},
     "output_type": "execute_result"
    }
   ],
   "source": [
    "# !pip install folium\n",
    "import folium\n",
    "\n",
    "# Convert JSON string to dictionary and get the bounds\n",
    "copc_metadata = pipeline.metadata['metadata']['readers.copc']\n",
    "pdal_bounds = generate_geojson_bbox(copc_metadata)\n",
    "pdal_bounds_dict = json.loads(pdal_bounds)\n",
    "\n",
    "coordinates = pdal_bounds_dict['geometry']['coordinates'][0]\n",
    "center_lat = (coordinates[0][1] + coordinates[2][1]) / 2\n",
    "center_lon = (coordinates[0][0] + coordinates[2][0]) / 2\n",
    "center = [center_lat, center_lon]\n",
    "\n",
    "m = folium.Map(location=center, zoom_start=11)\n",
    "folium.GeoJson(pdal_bounds).add_to(m)\n",
    "m"
   ]
  },
  {
   "cell_type": "markdown",
   "metadata": {},
   "source": []
  },
  {
   "cell_type": "markdown",
   "metadata": {},
   "source": []
  }
 ],
 "metadata": {
  "kernelspec": {
   "display_name": "Python 3 (ipykernel)",
   "language": "python",
   "name": "python3"
  },
  "language_info": {
   "codemirror_mode": {
    "name": "ipython",
    "version": 3
   },
   "file_extension": ".py",
   "mimetype": "text/x-python",
   "name": "python",
   "nbconvert_exporter": "python",
   "pygments_lexer": "ipython3",
   "version": "3.12.0"
  }
 },
 "nbformat": 4,
 "nbformat_minor": 4
}
